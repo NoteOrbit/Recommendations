{
 "cells": [
  {
   "cell_type": "code",
   "execution_count": 1,
   "id": "87297598",
   "metadata": {},
   "outputs": [],
   "source": [
    "import numpy as np\n",
    "import pandas as pd\n",
    "import matplotlib.pyplot as plt\n",
    "import math"
   ]
  },
  {
   "cell_type": "code",
   "execution_count": 77,
   "id": "add53f2f",
   "metadata": {
    "scrolled": true
   },
   "outputs": [],
   "source": [
    "df = pd.read_csv('real.csv',index_col=0)"
   ]
  },
  {
   "cell_type": "markdown",
   "id": "a1f22078",
   "metadata": {},
   "source": [
    "weighted rating (WR) = (v ÷ (v+m)) × R + (m ÷ (v+m)) × C"
   ]
  },
  {
   "cell_type": "code",
   "execution_count": 78,
   "id": "4a1d59ed",
   "metadata": {
    "scrolled": true
   },
   "outputs": [
    {
     "data": {
      "text/html": [
       "<div>\n",
       "<style scoped>\n",
       "    .dataframe tbody tr th:only-of-type {\n",
       "        vertical-align: middle;\n",
       "    }\n",
       "\n",
       "    .dataframe tbody tr th {\n",
       "        vertical-align: top;\n",
       "    }\n",
       "\n",
       "    .dataframe thead th {\n",
       "        text-align: right;\n",
       "    }\n",
       "</style>\n",
       "<table border=\"1\" class=\"dataframe\">\n",
       "  <thead>\n",
       "    <tr style=\"text-align: right;\">\n",
       "      <th></th>\n",
       "      <th>Store</th>\n",
       "      <th>User</th>\n",
       "      <th>Rating</th>\n",
       "    </tr>\n",
       "  </thead>\n",
       "  <tbody>\n",
       "    <tr>\n",
       "      <th>0</th>\n",
       "      <td>NAP's Coffee &amp; Roasters</td>\n",
       "      <td>Nuunet D.</td>\n",
       "      <td>5</td>\n",
       "    </tr>\n",
       "    <tr>\n",
       "      <th>1</th>\n",
       "      <td>NAP's Coffee &amp; Roasters</td>\n",
       "      <td>vanai sun</td>\n",
       "      <td>3</td>\n",
       "    </tr>\n",
       "    <tr>\n",
       "      <th>2</th>\n",
       "      <td>NAP's Coffee &amp; Roasters</td>\n",
       "      <td>Phonanan Seeon</td>\n",
       "      <td>5</td>\n",
       "    </tr>\n",
       "    <tr>\n",
       "      <th>3</th>\n",
       "      <td>NAP's Coffee &amp; Roasters</td>\n",
       "      <td>Chavakorn Laophetsakunchai</td>\n",
       "      <td>5</td>\n",
       "    </tr>\n",
       "    <tr>\n",
       "      <th>4</th>\n",
       "      <td>NAP's Coffee &amp; Roasters</td>\n",
       "      <td>community man</td>\n",
       "      <td>5</td>\n",
       "    </tr>\n",
       "    <tr>\n",
       "      <th>...</th>\n",
       "      <td>...</td>\n",
       "      <td>...</td>\n",
       "      <td>...</td>\n",
       "    </tr>\n",
       "    <tr>\n",
       "      <th>3348</th>\n",
       "      <td>Yuanjai Cafe</td>\n",
       "      <td>อาจณรงค์ กลมเกลียว</td>\n",
       "      <td>5</td>\n",
       "    </tr>\n",
       "    <tr>\n",
       "      <th>3349</th>\n",
       "      <td>Yuanjai Cafe</td>\n",
       "      <td>은하</td>\n",
       "      <td>5</td>\n",
       "    </tr>\n",
       "    <tr>\n",
       "      <th>3350</th>\n",
       "      <td>Yuanjai Cafe</td>\n",
       "      <td>ประจงจิต จันทป</td>\n",
       "      <td>5</td>\n",
       "    </tr>\n",
       "    <tr>\n",
       "      <th>3351</th>\n",
       "      <td>Yuanjai Cafe</td>\n",
       "      <td>Chatthawat Warnjai</td>\n",
       "      <td>5</td>\n",
       "    </tr>\n",
       "    <tr>\n",
       "      <th>3352</th>\n",
       "      <td>Yuanjai Cafe</td>\n",
       "      <td>TAE.SIRIWAT</td>\n",
       "      <td>5</td>\n",
       "    </tr>\n",
       "  </tbody>\n",
       "</table>\n",
       "<p>3327 rows × 3 columns</p>\n",
       "</div>"
      ],
      "text/plain": [
       "                        Store                        User  Rating\n",
       "0     NAP's Coffee & Roasters                   Nuunet D.       5\n",
       "1     NAP's Coffee & Roasters                   vanai sun       3\n",
       "2     NAP's Coffee & Roasters              Phonanan Seeon       5\n",
       "3     NAP's Coffee & Roasters  Chavakorn Laophetsakunchai       5\n",
       "4     NAP's Coffee & Roasters               community man       5\n",
       "...                       ...                         ...     ...\n",
       "3348             Yuanjai Cafe          อาจณรงค์ กลมเกลียว       5\n",
       "3349             Yuanjai Cafe                          은하       5\n",
       "3350             Yuanjai Cafe              ประจงจิต จันทป       5\n",
       "3351             Yuanjai Cafe          Chatthawat Warnjai       5\n",
       "3352             Yuanjai Cafe                 TAE.SIRIWAT       5\n",
       "\n",
       "[3327 rows x 3 columns]"
      ]
     },
     "execution_count": 78,
     "metadata": {},
     "output_type": "execute_result"
    }
   ],
   "source": [
    "df = df.iloc[0:,0:3]\n",
    "df"
   ]
  },
  {
   "cell_type": "code",
   "execution_count": 79,
   "id": "e7ef087d",
   "metadata": {},
   "outputs": [],
   "source": [
    "av = df.groupby('Store')['Rating'].mean().reset_index(name=\"mean\") ## C"
   ]
  },
  {
   "cell_type": "code",
   "execution_count": 80,
   "id": "bac8521d",
   "metadata": {},
   "outputs": [],
   "source": [
    "C = df.groupby([\"Store\"])[\"User\"].count().reset_index(name=\"count\") ## quantile"
   ]
  },
  {
   "cell_type": "code",
   "execution_count": 81,
   "id": "9446de2c",
   "metadata": {},
   "outputs": [],
   "source": [
    "df2= C.merge(av,on='Store')"
   ]
  },
  {
   "cell_type": "code",
   "execution_count": 82,
   "id": "f5d39c66",
   "metadata": {},
   "outputs": [
    {
     "data": {
      "text/html": [
       "<div>\n",
       "<style scoped>\n",
       "    .dataframe tbody tr th:only-of-type {\n",
       "        vertical-align: middle;\n",
       "    }\n",
       "\n",
       "    .dataframe tbody tr th {\n",
       "        vertical-align: top;\n",
       "    }\n",
       "\n",
       "    .dataframe thead th {\n",
       "        text-align: right;\n",
       "    }\n",
       "</style>\n",
       "<table border=\"1\" class=\"dataframe\">\n",
       "  <thead>\n",
       "    <tr style=\"text-align: right;\">\n",
       "      <th></th>\n",
       "      <th>Store</th>\n",
       "      <th>count</th>\n",
       "      <th>mean</th>\n",
       "    </tr>\n",
       "  </thead>\n",
       "  <tbody>\n",
       "    <tr>\n",
       "      <th>0</th>\n",
       "      <td>11.11 Gallery and Coffee</td>\n",
       "      <td>26</td>\n",
       "      <td>4.653846</td>\n",
       "    </tr>\n",
       "    <tr>\n",
       "      <th>1</th>\n",
       "      <td>Abe Specialty Coffee</td>\n",
       "      <td>14</td>\n",
       "      <td>4.785714</td>\n",
       "    </tr>\n",
       "    <tr>\n",
       "      <th>2</th>\n",
       "      <td>Amarna</td>\n",
       "      <td>45</td>\n",
       "      <td>4.733333</td>\n",
       "    </tr>\n",
       "    <tr>\n",
       "      <th>3</th>\n",
       "      <td>Anna Roasters</td>\n",
       "      <td>233</td>\n",
       "      <td>4.592275</td>\n",
       "    </tr>\n",
       "    <tr>\n",
       "      <th>4</th>\n",
       "      <td>Attaroast</td>\n",
       "      <td>37</td>\n",
       "      <td>4.837838</td>\n",
       "    </tr>\n",
       "  </tbody>\n",
       "</table>\n",
       "</div>"
      ],
      "text/plain": [
       "                      Store  count      mean\n",
       "0  11.11 Gallery and Coffee     26  4.653846\n",
       "1      Abe Specialty Coffee     14  4.785714\n",
       "2                    Amarna     45  4.733333\n",
       "3             Anna Roasters    233  4.592275\n",
       "4                 Attaroast     37  4.837838"
      ]
     },
     "execution_count": 82,
     "metadata": {},
     "output_type": "execute_result"
    }
   ],
   "source": [
    "df2.head()"
   ]
  },
  {
   "cell_type": "code",
   "execution_count": 69,
   "id": "bfa7c759",
   "metadata": {},
   "outputs": [
    {
     "data": {
      "text/plain": [
       "4.562345387938692"
      ]
     },
     "execution_count": 69,
     "metadata": {},
     "output_type": "execute_result"
    }
   ],
   "source": [
    "C = df2['mean'].mean()\n",
    "C"
   ]
  },
  {
   "cell_type": "code",
   "execution_count": 70,
   "id": "d75dc56d",
   "metadata": {},
   "outputs": [
    {
     "data": {
      "text/plain": [
       "66.0"
      ]
     },
     "execution_count": 70,
     "metadata": {},
     "output_type": "execute_result"
    }
   ],
   "source": [
    "m = df2['count'].quantile(0.5)\n",
    "m"
   ]
  },
  {
   "cell_type": "code",
   "execution_count": 71,
   "id": "2f8ab3e4",
   "metadata": {},
   "outputs": [
    {
     "data": {
      "text/plain": [
       "(17, 3)"
      ]
     },
     "execution_count": 71,
     "metadata": {},
     "output_type": "execute_result"
    }
   ],
   "source": [
    "listA = df2.copy().loc[df2['count'] >= m]\n",
    "listA.shape"
   ]
  },
  {
   "cell_type": "markdown",
   "id": "e45bf8e3",
   "metadata": {},
   "source": [
    "weighted rating (WR) = (v ÷ (v+m)) × R + (m ÷ (v+m)) × C"
   ]
  },
  {
   "cell_type": "code",
   "execution_count": 72,
   "id": "956c8226",
   "metadata": {},
   "outputs": [],
   "source": [
    "def weighted_rating(x, m=m, C=C):\n",
    "    v = x['count']\n",
    "    R = x['mean']\n",
    "    return (v/(v+m) * R) + (m/(m+v) * C)"
   ]
  },
  {
   "cell_type": "code",
   "execution_count": 73,
   "id": "023dc398",
   "metadata": {},
   "outputs": [],
   "source": [
    "listA['score'] = listA.apply(weighted_rating, axis=1)"
   ]
  },
  {
   "cell_type": "code",
   "execution_count": 74,
   "id": "24a5a3ed",
   "metadata": {},
   "outputs": [
    {
     "data": {
      "text/html": [
       "<div>\n",
       "<style scoped>\n",
       "    .dataframe tbody tr th:only-of-type {\n",
       "        vertical-align: middle;\n",
       "    }\n",
       "\n",
       "    .dataframe tbody tr th {\n",
       "        vertical-align: top;\n",
       "    }\n",
       "\n",
       "    .dataframe thead th {\n",
       "        text-align: right;\n",
       "    }\n",
       "</style>\n",
       "<table border=\"1\" class=\"dataframe\">\n",
       "  <thead>\n",
       "    <tr style=\"text-align: right;\">\n",
       "      <th></th>\n",
       "      <th>Store</th>\n",
       "      <th>score</th>\n",
       "    </tr>\n",
       "  </thead>\n",
       "  <tbody>\n",
       "    <tr>\n",
       "      <th>11</th>\n",
       "      <td>GODFATHER COFFEE</td>\n",
       "      <td>4.657145</td>\n",
       "    </tr>\n",
       "    <tr>\n",
       "      <th>27</th>\n",
       "      <td>Snoopcat Cafe</td>\n",
       "      <td>4.636511</td>\n",
       "    </tr>\n",
       "    <tr>\n",
       "      <th>17</th>\n",
       "      <td>NAP's Coffee &amp; Roasters</td>\n",
       "      <td>4.623421</td>\n",
       "    </tr>\n",
       "    <tr>\n",
       "      <th>25</th>\n",
       "      <td>Saereesook</td>\n",
       "      <td>4.603101</td>\n",
       "    </tr>\n",
       "    <tr>\n",
       "      <th>3</th>\n",
       "      <td>Anna Roasters</td>\n",
       "      <td>4.585668</td>\n",
       "    </tr>\n",
       "    <tr>\n",
       "      <th>14</th>\n",
       "      <td>LIFE Roasters</td>\n",
       "      <td>4.557990</td>\n",
       "    </tr>\n",
       "    <tr>\n",
       "      <th>12</th>\n",
       "      <td>Impression Sunrise</td>\n",
       "      <td>4.537184</td>\n",
       "    </tr>\n",
       "    <tr>\n",
       "      <th>6</th>\n",
       "      <td>BalconyKiss Coffee</td>\n",
       "      <td>4.533240</td>\n",
       "    </tr>\n",
       "    <tr>\n",
       "      <th>18</th>\n",
       "      <td>Nap x Warin</td>\n",
       "      <td>4.530162</td>\n",
       "    </tr>\n",
       "    <tr>\n",
       "      <th>29</th>\n",
       "      <td>Stufe coffee</td>\n",
       "      <td>4.519086</td>\n",
       "    </tr>\n",
       "    <tr>\n",
       "      <th>22</th>\n",
       "      <td>ROOF COFFEE</td>\n",
       "      <td>4.488133</td>\n",
       "    </tr>\n",
       "    <tr>\n",
       "      <th>16</th>\n",
       "      <td>My Papilio</td>\n",
       "      <td>4.418530</td>\n",
       "    </tr>\n",
       "    <tr>\n",
       "      <th>10</th>\n",
       "      <td>Commune Drink/Talk/Share</td>\n",
       "      <td>4.394519</td>\n",
       "    </tr>\n",
       "    <tr>\n",
       "      <th>9</th>\n",
       "      <td>Bossa cafe</td>\n",
       "      <td>4.394519</td>\n",
       "    </tr>\n",
       "    <tr>\n",
       "      <th>8</th>\n",
       "      <td>Blues Coffee</td>\n",
       "      <td>4.358183</td>\n",
       "    </tr>\n",
       "    <tr>\n",
       "      <th>20</th>\n",
       "      <td>Phantae Coffee</td>\n",
       "      <td>4.325147</td>\n",
       "    </tr>\n",
       "    <tr>\n",
       "      <th>30</th>\n",
       "      <td>Tree Cafe Rim Moon</td>\n",
       "      <td>4.284433</td>\n",
       "    </tr>\n",
       "  </tbody>\n",
       "</table>\n",
       "</div>"
      ],
      "text/plain": [
       "                       Store     score\n",
       "11          GODFATHER COFFEE  4.657145\n",
       "27             Snoopcat Cafe  4.636511\n",
       "17   NAP's Coffee & Roasters  4.623421\n",
       "25                Saereesook  4.603101\n",
       "3              Anna Roasters  4.585668\n",
       "14             LIFE Roasters  4.557990\n",
       "12        Impression Sunrise  4.537184\n",
       "6         BalconyKiss Coffee  4.533240\n",
       "18               Nap x Warin  4.530162\n",
       "29              Stufe coffee  4.519086\n",
       "22               ROOF COFFEE  4.488133\n",
       "16                My Papilio  4.418530\n",
       "10  Commune Drink/Talk/Share  4.394519\n",
       "9                 Bossa cafe  4.394519\n",
       "8               Blues Coffee  4.358183\n",
       "20            Phantae Coffee  4.325147\n",
       "30        Tree Cafe Rim Moon  4.284433"
      ]
     },
     "execution_count": 74,
     "metadata": {},
     "output_type": "execute_result"
    }
   ],
   "source": [
    "listA = listA.sort_values('score', ascending=False)\n",
    "\n",
    "#Print the top 15 movies\n",
    "listA[['Store', 'score']]"
   ]
  },
  {
   "cell_type": "code",
   "execution_count": 75,
   "id": "d495c1dc",
   "metadata": {},
   "outputs": [
    {
     "data": {
      "text/html": [
       "<div>\n",
       "<style scoped>\n",
       "    .dataframe tbody tr th:only-of-type {\n",
       "        vertical-align: middle;\n",
       "    }\n",
       "\n",
       "    .dataframe tbody tr th {\n",
       "        vertical-align: top;\n",
       "    }\n",
       "\n",
       "    .dataframe thead th {\n",
       "        text-align: right;\n",
       "    }\n",
       "</style>\n",
       "<table border=\"1\" class=\"dataframe\">\n",
       "  <thead>\n",
       "    <tr style=\"text-align: right;\">\n",
       "      <th></th>\n",
       "      <th>Store</th>\n",
       "      <th>User</th>\n",
       "      <th>Rating</th>\n",
       "    </tr>\n",
       "  </thead>\n",
       "  <tbody>\n",
       "    <tr>\n",
       "      <th>0</th>\n",
       "      <td>NAP's Coffee &amp; Roasters</td>\n",
       "      <td>Nuunet D.</td>\n",
       "      <td>5</td>\n",
       "    </tr>\n",
       "    <tr>\n",
       "      <th>1</th>\n",
       "      <td>NAP's Coffee &amp; Roasters</td>\n",
       "      <td>vanai sun</td>\n",
       "      <td>3</td>\n",
       "    </tr>\n",
       "    <tr>\n",
       "      <th>2</th>\n",
       "      <td>NAP's Coffee &amp; Roasters</td>\n",
       "      <td>Phonanan Seeon</td>\n",
       "      <td>5</td>\n",
       "    </tr>\n",
       "    <tr>\n",
       "      <th>3</th>\n",
       "      <td>NAP's Coffee &amp; Roasters</td>\n",
       "      <td>Chavakorn Laophetsakunchai</td>\n",
       "      <td>5</td>\n",
       "    </tr>\n",
       "    <tr>\n",
       "      <th>4</th>\n",
       "      <td>NAP's Coffee &amp; Roasters</td>\n",
       "      <td>community man</td>\n",
       "      <td>5</td>\n",
       "    </tr>\n",
       "    <tr>\n",
       "      <th>...</th>\n",
       "      <td>...</td>\n",
       "      <td>...</td>\n",
       "      <td>...</td>\n",
       "    </tr>\n",
       "    <tr>\n",
       "      <th>3348</th>\n",
       "      <td>Yuanjai Cafe</td>\n",
       "      <td>อาจณรงค์ กลมเกลียว</td>\n",
       "      <td>5</td>\n",
       "    </tr>\n",
       "    <tr>\n",
       "      <th>3349</th>\n",
       "      <td>Yuanjai Cafe</td>\n",
       "      <td>은하</td>\n",
       "      <td>5</td>\n",
       "    </tr>\n",
       "    <tr>\n",
       "      <th>3350</th>\n",
       "      <td>Yuanjai Cafe</td>\n",
       "      <td>ประจงจิต จันทป</td>\n",
       "      <td>5</td>\n",
       "    </tr>\n",
       "    <tr>\n",
       "      <th>3351</th>\n",
       "      <td>Yuanjai Cafe</td>\n",
       "      <td>Chatthawat Warnjai</td>\n",
       "      <td>5</td>\n",
       "    </tr>\n",
       "    <tr>\n",
       "      <th>3352</th>\n",
       "      <td>Yuanjai Cafe</td>\n",
       "      <td>TAE.SIRIWAT</td>\n",
       "      <td>5</td>\n",
       "    </tr>\n",
       "  </tbody>\n",
       "</table>\n",
       "<p>3327 rows × 3 columns</p>\n",
       "</div>"
      ],
      "text/plain": [
       "                        Store                        User  Rating\n",
       "0     NAP's Coffee & Roasters                   Nuunet D.       5\n",
       "1     NAP's Coffee & Roasters                   vanai sun       3\n",
       "2     NAP's Coffee & Roasters              Phonanan Seeon       5\n",
       "3     NAP's Coffee & Roasters  Chavakorn Laophetsakunchai       5\n",
       "4     NAP's Coffee & Roasters               community man       5\n",
       "...                       ...                         ...     ...\n",
       "3348             Yuanjai Cafe          อาจณรงค์ กลมเกลียว       5\n",
       "3349             Yuanjai Cafe                          은하       5\n",
       "3350             Yuanjai Cafe              ประจงจิต จันทป       5\n",
       "3351             Yuanjai Cafe          Chatthawat Warnjai       5\n",
       "3352             Yuanjai Cafe                 TAE.SIRIWAT       5\n",
       "\n",
       "[3327 rows x 3 columns]"
      ]
     },
     "execution_count": 75,
     "metadata": {},
     "output_type": "execute_result"
    }
   ],
   "source": [
    "df"
   ]
  },
  {
   "cell_type": "code",
   "execution_count": 76,
   "id": "2e735fa9",
   "metadata": {},
   "outputs": [
    {
     "data": {
      "text/html": [
       "<div>\n",
       "<style scoped>\n",
       "    .dataframe tbody tr th:only-of-type {\n",
       "        vertical-align: middle;\n",
       "    }\n",
       "\n",
       "    .dataframe tbody tr th {\n",
       "        vertical-align: top;\n",
       "    }\n",
       "\n",
       "    .dataframe thead th {\n",
       "        text-align: right;\n",
       "    }\n",
       "</style>\n",
       "<table border=\"1\" class=\"dataframe\">\n",
       "  <thead>\n",
       "    <tr style=\"text-align: right;\">\n",
       "      <th></th>\n",
       "      <th>Store</th>\n",
       "      <th>Rating</th>\n",
       "      <th>count</th>\n",
       "    </tr>\n",
       "  </thead>\n",
       "  <tbody>\n",
       "    <tr>\n",
       "      <th>0</th>\n",
       "      <td>11.11 Gallery and Coffee</td>\n",
       "      <td>3</td>\n",
       "      <td>1</td>\n",
       "    </tr>\n",
       "    <tr>\n",
       "      <th>1</th>\n",
       "      <td>11.11 Gallery and Coffee</td>\n",
       "      <td>4</td>\n",
       "      <td>7</td>\n",
       "    </tr>\n",
       "    <tr>\n",
       "      <th>2</th>\n",
       "      <td>11.11 Gallery and Coffee</td>\n",
       "      <td>5</td>\n",
       "      <td>18</td>\n",
       "    </tr>\n",
       "    <tr>\n",
       "      <th>3</th>\n",
       "      <td>Abe Specialty Coffee</td>\n",
       "      <td>4</td>\n",
       "      <td>3</td>\n",
       "    </tr>\n",
       "    <tr>\n",
       "      <th>4</th>\n",
       "      <td>Abe Specialty Coffee</td>\n",
       "      <td>5</td>\n",
       "      <td>11</td>\n",
       "    </tr>\n",
       "    <tr>\n",
       "      <th>...</th>\n",
       "      <td>...</td>\n",
       "      <td>...</td>\n",
       "      <td>...</td>\n",
       "    </tr>\n",
       "    <tr>\n",
       "      <th>123</th>\n",
       "      <td>r o u n d</td>\n",
       "      <td>4</td>\n",
       "      <td>3</td>\n",
       "    </tr>\n",
       "    <tr>\n",
       "      <th>124</th>\n",
       "      <td>r o u n d</td>\n",
       "      <td>5</td>\n",
       "      <td>6</td>\n",
       "    </tr>\n",
       "    <tr>\n",
       "      <th>125</th>\n",
       "      <td>sangob</td>\n",
       "      <td>3</td>\n",
       "      <td>3</td>\n",
       "    </tr>\n",
       "    <tr>\n",
       "      <th>126</th>\n",
       "      <td>sangob</td>\n",
       "      <td>4</td>\n",
       "      <td>13</td>\n",
       "    </tr>\n",
       "    <tr>\n",
       "      <th>127</th>\n",
       "      <td>sangob</td>\n",
       "      <td>5</td>\n",
       "      <td>41</td>\n",
       "    </tr>\n",
       "  </tbody>\n",
       "</table>\n",
       "<p>128 rows × 3 columns</p>\n",
       "</div>"
      ],
      "text/plain": [
       "                        Store  Rating  count\n",
       "0    11.11 Gallery and Coffee       3      1\n",
       "1    11.11 Gallery and Coffee       4      7\n",
       "2    11.11 Gallery and Coffee       5     18\n",
       "3        Abe Specialty Coffee       4      3\n",
       "4        Abe Specialty Coffee       5     11\n",
       "..                        ...     ...    ...\n",
       "123                 r o u n d       4      3\n",
       "124                 r o u n d       5      6\n",
       "125                    sangob       3      3\n",
       "126                    sangob       4     13\n",
       "127                    sangob       5     41\n",
       "\n",
       "[128 rows x 3 columns]"
      ]
     },
     "execution_count": 76,
     "metadata": {},
     "output_type": "execute_result"
    }
   ],
   "source": [
    "df.groupby(['Store','Rating']).Rating.count().to_frame('count').reset_index()"
   ]
  },
  {
   "cell_type": "markdown",
   "id": "b91d4e1d",
   "metadata": {},
   "source": [
    "https://stackoverflow.com/questions/1411199/what-is-a-better-way-to-sort-by-a-5-star-rating"
   ]
  },
  {
   "cell_type": "markdown",
   "id": "4a17164a",
   "metadata": {},
   "source": [
    "Evan Miller shows"
   ]
  },
  {
   "cell_type": "code",
   "execution_count": 16,
   "id": "c9e05c3b",
   "metadata": {},
   "outputs": [],
   "source": [
    "def starsort(ns):\n",
    "    \n",
    "    \"\"\"\n",
    "    \n",
    "    \n",
    "    http://www.evanmiller.org/ranking-items-with-star-ratings.html\n",
    "    \n",
    "    \n",
    "    \"\"\"\n",
    "    \n",
    "    N = sum(ns)\n",
    "    K = len(ns)\n",
    "    s = list(range(K,0,-1))\n",
    "    print(s)\n",
    "    s2 = [sk**2 for sk in s]\n",
    "    z = 1.65\n",
    "    def f(s, ns):\n",
    "        N = sum(ns)\n",
    "        K = len(ns)\n",
    "        return sum(sk*(nk+1) for sk, nk in zip(s,ns)) / (N+K)\n",
    "    fsns = f(s, ns)\n",
    "    return fsns - z*math.sqrt((f(s2, ns)- fsns**2)/(N+K+1))"
   ]
  },
  {
   "cell_type": "code",
   "execution_count": 17,
   "id": "c2b175da",
   "metadata": {},
   "outputs": [
    {
     "name": "stdout",
     "output_type": "stream",
     "text": [
      "[5, 4, 3, 2, 1]\n"
     ]
    },
    {
     "data": {
      "text/plain": [
       "2.4036636531319653"
      ]
     },
     "execution_count": 17,
     "metadata": {},
     "output_type": "execute_result"
    }
   ],
   "source": [
    "x = (1, 0, 0,0,0)\n",
    "starsort(x)"
   ]
  },
  {
   "cell_type": "code",
   "execution_count": 48,
   "id": "46d96743",
   "metadata": {},
   "outputs": [],
   "source": [
    "import pymongo"
   ]
  },
  {
   "cell_type": "code",
   "execution_count": 49,
   "id": "dbc7251d",
   "metadata": {},
   "outputs": [],
   "source": [
    "client = MongoClient('localhost',27017)"
   ]
  },
  {
   "cell_type": "code",
   "execution_count": 50,
   "id": "0364c4ff",
   "metadata": {},
   "outputs": [],
   "source": [
    "db = client['data']"
   ]
  },
  {
   "cell_type": "code",
   "execution_count": 51,
   "id": "5677fd64",
   "metadata": {},
   "outputs": [],
   "source": [
    "col = db['rating']"
   ]
  },
  {
   "cell_type": "code",
   "execution_count": 52,
   "id": "d66cdf34",
   "metadata": {},
   "outputs": [],
   "source": [
    "z = list(col.find({},{'_id':0,'User':0}))"
   ]
  },
  {
   "cell_type": "code",
   "execution_count": 53,
   "id": "26e391fa",
   "metadata": {},
   "outputs": [],
   "source": [
    "df = pd.DataFrame(z)"
   ]
  },
  {
   "cell_type": "code",
   "execution_count": 54,
   "id": "dec1845e",
   "metadata": {},
   "outputs": [
    {
     "data": {
      "text/html": [
       "<div>\n",
       "<style scoped>\n",
       "    .dataframe tbody tr th:only-of-type {\n",
       "        vertical-align: middle;\n",
       "    }\n",
       "\n",
       "    .dataframe tbody tr th {\n",
       "        vertical-align: top;\n",
       "    }\n",
       "\n",
       "    .dataframe thead th {\n",
       "        text-align: right;\n",
       "    }\n",
       "</style>\n",
       "<table border=\"1\" class=\"dataframe\">\n",
       "  <thead>\n",
       "    <tr style=\"text-align: right;\">\n",
       "      <th></th>\n",
       "      <th>Store</th>\n",
       "      <th>Rating</th>\n",
       "    </tr>\n",
       "  </thead>\n",
       "  <tbody>\n",
       "    <tr>\n",
       "      <th>0</th>\n",
       "      <td>NAP's Coffee &amp; Roasters</td>\n",
       "      <td>5</td>\n",
       "    </tr>\n",
       "    <tr>\n",
       "      <th>1</th>\n",
       "      <td>NAP's Coffee &amp; Roasters</td>\n",
       "      <td>3</td>\n",
       "    </tr>\n",
       "    <tr>\n",
       "      <th>2</th>\n",
       "      <td>NAP's Coffee &amp; Roasters</td>\n",
       "      <td>5</td>\n",
       "    </tr>\n",
       "    <tr>\n",
       "      <th>3</th>\n",
       "      <td>NAP's Coffee &amp; Roasters</td>\n",
       "      <td>5</td>\n",
       "    </tr>\n",
       "    <tr>\n",
       "      <th>4</th>\n",
       "      <td>NAP's Coffee &amp; Roasters</td>\n",
       "      <td>5</td>\n",
       "    </tr>\n",
       "    <tr>\n",
       "      <th>...</th>\n",
       "      <td>...</td>\n",
       "      <td>...</td>\n",
       "    </tr>\n",
       "    <tr>\n",
       "      <th>3322</th>\n",
       "      <td>Yuanjai Cafe</td>\n",
       "      <td>5</td>\n",
       "    </tr>\n",
       "    <tr>\n",
       "      <th>3323</th>\n",
       "      <td>Yuanjai Cafe</td>\n",
       "      <td>5</td>\n",
       "    </tr>\n",
       "    <tr>\n",
       "      <th>3324</th>\n",
       "      <td>Yuanjai Cafe</td>\n",
       "      <td>5</td>\n",
       "    </tr>\n",
       "    <tr>\n",
       "      <th>3325</th>\n",
       "      <td>Yuanjai Cafe</td>\n",
       "      <td>5</td>\n",
       "    </tr>\n",
       "    <tr>\n",
       "      <th>3326</th>\n",
       "      <td>Yuanjai Cafe</td>\n",
       "      <td>5</td>\n",
       "    </tr>\n",
       "  </tbody>\n",
       "</table>\n",
       "<p>3327 rows × 2 columns</p>\n",
       "</div>"
      ],
      "text/plain": [
       "                        Store Rating\n",
       "0     NAP's Coffee & Roasters      5\n",
       "1     NAP's Coffee & Roasters      3\n",
       "2     NAP's Coffee & Roasters      5\n",
       "3     NAP's Coffee & Roasters      5\n",
       "4     NAP's Coffee & Roasters      5\n",
       "...                       ...    ...\n",
       "3322             Yuanjai Cafe      5\n",
       "3323             Yuanjai Cafe      5\n",
       "3324             Yuanjai Cafe      5\n",
       "3325             Yuanjai Cafe      5\n",
       "3326             Yuanjai Cafe      5\n",
       "\n",
       "[3327 rows x 2 columns]"
      ]
     },
     "execution_count": 54,
     "metadata": {},
     "output_type": "execute_result"
    }
   ],
   "source": [
    "df"
   ]
  },
  {
   "cell_type": "code",
   "execution_count": 83,
   "id": "6de3b5ac",
   "metadata": {},
   "outputs": [],
   "source": [
    "col2 = db['comment']"
   ]
  },
  {
   "cell_type": "code",
   "execution_count": 84,
   "id": "07211b93",
   "metadata": {},
   "outputs": [
    {
     "data": {
      "text/plain": [
       "<pymongo.results.InsertManyResult at 0x2011bc26c40>"
      ]
     },
     "execution_count": 84,
     "metadata": {},
     "output_type": "execute_result"
    }
   ],
   "source": [
    "col2.insert_many(listA.to_dict('records'))"
   ]
  },
  {
   "cell_type": "code",
   "execution_count": 85,
   "id": "c74d1416",
   "metadata": {},
   "outputs": [],
   "source": [
    "data1 = listA.to_dict('records')"
   ]
  },
  {
   "cell_type": "code",
   "execution_count": 86,
   "id": "1f7e83a6",
   "metadata": {},
   "outputs": [
    {
     "data": {
      "text/plain": [
       "<pymongo.results.InsertManyResult at 0x2011ba0e250>"
      ]
     },
     "execution_count": 86,
     "metadata": {},
     "output_type": "execute_result"
    }
   ],
   "source": [
    "col2.collections.insert_many(data1)"
   ]
  },
  {
   "cell_type": "code",
   "execution_count": null,
   "id": "e9279933",
   "metadata": {},
   "outputs": [],
   "source": []
  },
  {
   "cell_type": "code",
   "execution_count": null,
   "id": "2e42e2ea",
   "metadata": {},
   "outputs": [],
   "source": []
  }
 ],
 "metadata": {
  "kernelspec": {
   "display_name": "Python 3 (ipykernel)",
   "language": "python",
   "name": "python3"
  },
  "language_info": {
   "codemirror_mode": {
    "name": "ipython",
    "version": 3
   },
   "file_extension": ".py",
   "mimetype": "text/x-python",
   "name": "python",
   "nbconvert_exporter": "python",
   "pygments_lexer": "ipython3",
   "version": "3.9.15"
  }
 },
 "nbformat": 4,
 "nbformat_minor": 5
}
