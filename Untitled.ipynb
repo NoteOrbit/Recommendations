{
 "cells": [
  {
   "cell_type": "code",
   "execution_count": 2,
   "id": "87297598",
   "metadata": {},
   "outputs": [],
   "source": [
    "import numpy as np\n",
    "import pandas as pd\n",
    "import matplotlib.pyplot as plt\n"
   ]
  },
  {
   "cell_type": "code",
   "execution_count": 69,
   "id": "add53f2f",
   "metadata": {
    "scrolled": true
   },
   "outputs": [],
   "source": [
    "df = pd.read_csv('datatest2.csv',index_col=0)"
   ]
  },
  {
   "cell_type": "markdown",
   "id": "a1f22078",
   "metadata": {},
   "source": [
    "weighted rating (WR) = (v ÷ (v+m)) × R + (m ÷ (v+m)) × C"
   ]
  },
  {
   "cell_type": "code",
   "execution_count": 70,
   "id": "4a1d59ed",
   "metadata": {},
   "outputs": [
    {
     "data": {
      "text/html": [
       "<div>\n",
       "<style scoped>\n",
       "    .dataframe tbody tr th:only-of-type {\n",
       "        vertical-align: middle;\n",
       "    }\n",
       "\n",
       "    .dataframe tbody tr th {\n",
       "        vertical-align: top;\n",
       "    }\n",
       "\n",
       "    .dataframe thead th {\n",
       "        text-align: right;\n",
       "    }\n",
       "</style>\n",
       "<table border=\"1\" class=\"dataframe\">\n",
       "  <thead>\n",
       "    <tr style=\"text-align: right;\">\n",
       "      <th></th>\n",
       "      <th>Store</th>\n",
       "      <th>User</th>\n",
       "      <th>Rating</th>\n",
       "    </tr>\n",
       "  </thead>\n",
       "  <tbody>\n",
       "    <tr>\n",
       "      <th>0</th>\n",
       "      <td>NAP's Coffee &amp; Roasters</td>\n",
       "      <td>Nuunet D.</td>\n",
       "      <td>5.0</td>\n",
       "    </tr>\n",
       "    <tr>\n",
       "      <th>1</th>\n",
       "      <td>NAP's Coffee &amp; Roasters</td>\n",
       "      <td>vanai sun</td>\n",
       "      <td>3.0</td>\n",
       "    </tr>\n",
       "    <tr>\n",
       "      <th>2</th>\n",
       "      <td>NAP's Coffee &amp; Roasters</td>\n",
       "      <td>Phonanan Seeon</td>\n",
       "      <td>5.0</td>\n",
       "    </tr>\n",
       "    <tr>\n",
       "      <th>3</th>\n",
       "      <td>NAP's Coffee &amp; Roasters</td>\n",
       "      <td>Chavakorn Laophetsakunchai</td>\n",
       "      <td>5.0</td>\n",
       "    </tr>\n",
       "    <tr>\n",
       "      <th>4</th>\n",
       "      <td>NAP's Coffee &amp; Roasters</td>\n",
       "      <td>community man</td>\n",
       "      <td>5.0</td>\n",
       "    </tr>\n",
       "    <tr>\n",
       "      <th>...</th>\n",
       "      <td>...</td>\n",
       "      <td>...</td>\n",
       "      <td>...</td>\n",
       "    </tr>\n",
       "    <tr>\n",
       "      <th>3348</th>\n",
       "      <td>Yuanjai Cafe</td>\n",
       "      <td>อาจณรงค์ กลมเกลียว</td>\n",
       "      <td>5.0</td>\n",
       "    </tr>\n",
       "    <tr>\n",
       "      <th>3349</th>\n",
       "      <td>Yuanjai Cafe</td>\n",
       "      <td>??</td>\n",
       "      <td>5.0</td>\n",
       "    </tr>\n",
       "    <tr>\n",
       "      <th>3350</th>\n",
       "      <td>Yuanjai Cafe</td>\n",
       "      <td>ประจงจิต จันทป</td>\n",
       "      <td>5.0</td>\n",
       "    </tr>\n",
       "    <tr>\n",
       "      <th>3351</th>\n",
       "      <td>Yuanjai Cafe</td>\n",
       "      <td>Chatthawat Warnjai</td>\n",
       "      <td>5.0</td>\n",
       "    </tr>\n",
       "    <tr>\n",
       "      <th>3352</th>\n",
       "      <td>Yuanjai Cafe</td>\n",
       "      <td>TAE.SIRIWAT</td>\n",
       "      <td>5.0</td>\n",
       "    </tr>\n",
       "  </tbody>\n",
       "</table>\n",
       "<p>3327 rows × 3 columns</p>\n",
       "</div>"
      ],
      "text/plain": [
       "                        Store                        User  Rating\n",
       "0     NAP's Coffee & Roasters                   Nuunet D.     5.0\n",
       "1     NAP's Coffee & Roasters                   vanai sun     3.0\n",
       "2     NAP's Coffee & Roasters              Phonanan Seeon     5.0\n",
       "3     NAP's Coffee & Roasters  Chavakorn Laophetsakunchai     5.0\n",
       "4     NAP's Coffee & Roasters               community man     5.0\n",
       "...                       ...                         ...     ...\n",
       "3348             Yuanjai Cafe          อาจณรงค์ กลมเกลียว     5.0\n",
       "3349             Yuanjai Cafe                          ??     5.0\n",
       "3350             Yuanjai Cafe              ประจงจิต จันทป     5.0\n",
       "3351             Yuanjai Cafe          Chatthawat Warnjai     5.0\n",
       "3352             Yuanjai Cafe                 TAE.SIRIWAT     5.0\n",
       "\n",
       "[3327 rows x 3 columns]"
      ]
     },
     "execution_count": 70,
     "metadata": {},
     "output_type": "execute_result"
    }
   ],
   "source": [
    "df = df.iloc[0:,0:3]\n",
    "df"
   ]
  },
  {
   "cell_type": "code",
   "execution_count": 71,
   "id": "e7ef087d",
   "metadata": {},
   "outputs": [],
   "source": [
    "av = df.groupby('Store')['Rating'].mean().reset_index(name=\"mean\") ## C"
   ]
  },
  {
   "cell_type": "code",
   "execution_count": 72,
   "id": "bac8521d",
   "metadata": {},
   "outputs": [],
   "source": [
    "C = df.groupby([\"Store\"])[\"User\"].count().reset_index(name=\"count\") ## quantile"
   ]
  },
  {
   "cell_type": "code",
   "execution_count": 73,
   "id": "9446de2c",
   "metadata": {},
   "outputs": [],
   "source": [
    "df2= C.merge(av,on='Store')"
   ]
  },
  {
   "cell_type": "code",
   "execution_count": 74,
   "id": "f5d39c66",
   "metadata": {},
   "outputs": [
    {
     "data": {
      "text/html": [
       "<div>\n",
       "<style scoped>\n",
       "    .dataframe tbody tr th:only-of-type {\n",
       "        vertical-align: middle;\n",
       "    }\n",
       "\n",
       "    .dataframe tbody tr th {\n",
       "        vertical-align: top;\n",
       "    }\n",
       "\n",
       "    .dataframe thead th {\n",
       "        text-align: right;\n",
       "    }\n",
       "</style>\n",
       "<table border=\"1\" class=\"dataframe\">\n",
       "  <thead>\n",
       "    <tr style=\"text-align: right;\">\n",
       "      <th></th>\n",
       "      <th>Store</th>\n",
       "      <th>count</th>\n",
       "      <th>mean</th>\n",
       "    </tr>\n",
       "  </thead>\n",
       "  <tbody>\n",
       "    <tr>\n",
       "      <th>0</th>\n",
       "      <td>11.11 Gallery and Coffee</td>\n",
       "      <td>26</td>\n",
       "      <td>4.653846</td>\n",
       "    </tr>\n",
       "    <tr>\n",
       "      <th>1</th>\n",
       "      <td>Abe Specialty Coffee</td>\n",
       "      <td>14</td>\n",
       "      <td>4.785714</td>\n",
       "    </tr>\n",
       "    <tr>\n",
       "      <th>2</th>\n",
       "      <td>Amarna</td>\n",
       "      <td>45</td>\n",
       "      <td>4.733333</td>\n",
       "    </tr>\n",
       "    <tr>\n",
       "      <th>3</th>\n",
       "      <td>Anna Roasters</td>\n",
       "      <td>233</td>\n",
       "      <td>4.592275</td>\n",
       "    </tr>\n",
       "    <tr>\n",
       "      <th>4</th>\n",
       "      <td>Attaroast</td>\n",
       "      <td>37</td>\n",
       "      <td>4.837838</td>\n",
       "    </tr>\n",
       "  </tbody>\n",
       "</table>\n",
       "</div>"
      ],
      "text/plain": [
       "                      Store  count      mean\n",
       "0  11.11 Gallery and Coffee     26  4.653846\n",
       "1      Abe Specialty Coffee     14  4.785714\n",
       "2                    Amarna     45  4.733333\n",
       "3             Anna Roasters    233  4.592275\n",
       "4                 Attaroast     37  4.837838"
      ]
     },
     "execution_count": 74,
     "metadata": {},
     "output_type": "execute_result"
    }
   ],
   "source": [
    "df2.head()"
   ]
  },
  {
   "cell_type": "code",
   "execution_count": 75,
   "id": "bfa7c759",
   "metadata": {},
   "outputs": [
    {
     "data": {
      "text/plain": [
       "4.560949853648421"
      ]
     },
     "execution_count": 75,
     "metadata": {},
     "output_type": "execute_result"
    }
   ],
   "source": [
    "C = df2['mean'].mean()\n",
    "C"
   ]
  },
  {
   "cell_type": "code",
   "execution_count": 93,
   "id": "d75dc56d",
   "metadata": {},
   "outputs": [
    {
     "data": {
      "text/plain": [
       "224.59999999999997"
      ]
     },
     "execution_count": 93,
     "metadata": {},
     "output_type": "execute_result"
    }
   ],
   "source": [
    "m = df2['count'].quantile(0.9)\n",
    "m"
   ]
  },
  {
   "cell_type": "code",
   "execution_count": 94,
   "id": "2f8ab3e4",
   "metadata": {},
   "outputs": [
    {
     "data": {
      "text/plain": [
       "(4, 3)"
      ]
     },
     "execution_count": 94,
     "metadata": {},
     "output_type": "execute_result"
    }
   ],
   "source": [
    "listA = df2.copy().loc[df2['count'] >= m]\n",
    "listA.shape"
   ]
  },
  {
   "cell_type": "code",
   "execution_count": 95,
   "id": "956c8226",
   "metadata": {},
   "outputs": [],
   "source": [
    "def weighted_rating(x, m=m, C=C):\n",
    "    v = x['count']\n",
    "    R = x['mean']\n",
    "    return (v/(v+m) * R) + (m/(m+v) * C)"
   ]
  },
  {
   "cell_type": "code",
   "execution_count": 96,
   "id": "023dc398",
   "metadata": {},
   "outputs": [],
   "source": [
    "listA['score'] = listA.apply(weighted_rating, axis=1)"
   ]
  },
  {
   "cell_type": "code",
   "execution_count": 97,
   "id": "24a5a3ed",
   "metadata": {},
   "outputs": [
    {
     "data": {
      "text/html": [
       "<div>\n",
       "<style scoped>\n",
       "    .dataframe tbody tr th:only-of-type {\n",
       "        vertical-align: middle;\n",
       "    }\n",
       "\n",
       "    .dataframe tbody tr th {\n",
       "        vertical-align: top;\n",
       "    }\n",
       "\n",
       "    .dataframe thead th {\n",
       "        text-align: right;\n",
       "    }\n",
       "</style>\n",
       "<table border=\"1\" class=\"dataframe\">\n",
       "  <thead>\n",
       "    <tr style=\"text-align: right;\">\n",
       "      <th></th>\n",
       "      <th>Store</th>\n",
       "      <th>count</th>\n",
       "      <th>mean</th>\n",
       "      <th>score</th>\n",
       "    </tr>\n",
       "  </thead>\n",
       "  <tbody>\n",
       "    <tr>\n",
       "      <th>3</th>\n",
       "      <td>Anna Roasters</td>\n",
       "      <td>233</td>\n",
       "      <td>4.592275</td>\n",
       "      <td>4.576900</td>\n",
       "    </tr>\n",
       "    <tr>\n",
       "      <th>14</th>\n",
       "      <td>LIFE Roasters</td>\n",
       "      <td>255</td>\n",
       "      <td>4.556863</td>\n",
       "      <td>4.558777</td>\n",
       "    </tr>\n",
       "    <tr>\n",
       "      <th>16</th>\n",
       "      <td>My Papilio</td>\n",
       "      <td>264</td>\n",
       "      <td>4.382576</td>\n",
       "      <td>4.464571</td>\n",
       "    </tr>\n",
       "    <tr>\n",
       "      <th>30</th>\n",
       "      <td>Tree Cafe Rim Moon</td>\n",
       "      <td>402</td>\n",
       "      <td>4.238806</td>\n",
       "      <td>4.354276</td>\n",
       "    </tr>\n",
       "  </tbody>\n",
       "</table>\n",
       "</div>"
      ],
      "text/plain": [
       "                 Store  count      mean     score\n",
       "3        Anna Roasters    233  4.592275  4.576900\n",
       "14       LIFE Roasters    255  4.556863  4.558777\n",
       "16          My Papilio    264  4.382576  4.464571\n",
       "30  Tree Cafe Rim Moon    402  4.238806  4.354276"
      ]
     },
     "execution_count": 97,
     "metadata": {},
     "output_type": "execute_result"
    }
   ],
   "source": [
    "listA = listA.sort_values('score', ascending=False)\n",
    "\n",
    "#Print the top 15 movies\n",
    "listA[['Store', 'count', 'mean', 'score']].head(10)"
   ]
  },
  {
   "cell_type": "code",
   "execution_count": null,
   "id": "c9e05c3b",
   "metadata": {},
   "outputs": [],
   "source": []
  },
  {
   "cell_type": "code",
   "execution_count": null,
   "id": "c2b175da",
   "metadata": {},
   "outputs": [],
   "source": []
  }
 ],
 "metadata": {
  "kernelspec": {
   "display_name": "Python 3 (ipykernel)",
   "language": "python",
   "name": "python3"
  },
  "language_info": {
   "codemirror_mode": {
    "name": "ipython",
    "version": 3
   },
   "file_extension": ".py",
   "mimetype": "text/x-python",
   "name": "python",
   "nbconvert_exporter": "python",
   "pygments_lexer": "ipython3",
   "version": "3.9.13"
  }
 },
 "nbformat": 4,
 "nbformat_minor": 5
}
