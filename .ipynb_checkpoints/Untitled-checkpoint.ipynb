{
 "cells": [
  {
   "cell_type": "code",
   "execution_count": 116,
   "id": "87297598",
   "metadata": {},
   "outputs": [],
   "source": [
    "import numpy as np\n",
    "import pandas as pd\n",
    "import matplotlib.pyplot as plt\n",
    "import math"
   ]
  },
  {
   "cell_type": "code",
   "execution_count": 132,
   "id": "add53f2f",
   "metadata": {
    "scrolled": true
   },
   "outputs": [],
   "source": [
    "df = pd.read_csv('datatest2.csv',index_col=0)"
   ]
  },
  {
   "cell_type": "markdown",
   "id": "a1f22078",
   "metadata": {},
   "source": [
    "weighted rating (WR) = (v ÷ (v+m)) × R + (m ÷ (v+m)) × C"
   ]
  },
  {
   "cell_type": "code",
   "execution_count": 133,
   "id": "4a1d59ed",
   "metadata": {},
   "outputs": [
    {
     "data": {
      "text/html": [
       "<div>\n",
       "<style scoped>\n",
       "    .dataframe tbody tr th:only-of-type {\n",
       "        vertical-align: middle;\n",
       "    }\n",
       "\n",
       "    .dataframe tbody tr th {\n",
       "        vertical-align: top;\n",
       "    }\n",
       "\n",
       "    .dataframe thead th {\n",
       "        text-align: right;\n",
       "    }\n",
       "</style>\n",
       "<table border=\"1\" class=\"dataframe\">\n",
       "  <thead>\n",
       "    <tr style=\"text-align: right;\">\n",
       "      <th></th>\n",
       "      <th>Store</th>\n",
       "      <th>User</th>\n",
       "      <th>Rating</th>\n",
       "    </tr>\n",
       "  </thead>\n",
       "  <tbody>\n",
       "    <tr>\n",
       "      <th>0</th>\n",
       "      <td>NAP's Coffee &amp; Roasters</td>\n",
       "      <td>Nuunet D.</td>\n",
       "      <td>5.0</td>\n",
       "    </tr>\n",
       "    <tr>\n",
       "      <th>1</th>\n",
       "      <td>NAP's Coffee &amp; Roasters</td>\n",
       "      <td>vanai sun</td>\n",
       "      <td>3.0</td>\n",
       "    </tr>\n",
       "    <tr>\n",
       "      <th>2</th>\n",
       "      <td>NAP's Coffee &amp; Roasters</td>\n",
       "      <td>Phonanan Seeon</td>\n",
       "      <td>5.0</td>\n",
       "    </tr>\n",
       "    <tr>\n",
       "      <th>3</th>\n",
       "      <td>NAP's Coffee &amp; Roasters</td>\n",
       "      <td>Chavakorn Laophetsakunchai</td>\n",
       "      <td>5.0</td>\n",
       "    </tr>\n",
       "    <tr>\n",
       "      <th>4</th>\n",
       "      <td>NAP's Coffee &amp; Roasters</td>\n",
       "      <td>community man</td>\n",
       "      <td>5.0</td>\n",
       "    </tr>\n",
       "    <tr>\n",
       "      <th>...</th>\n",
       "      <td>...</td>\n",
       "      <td>...</td>\n",
       "      <td>...</td>\n",
       "    </tr>\n",
       "    <tr>\n",
       "      <th>3348</th>\n",
       "      <td>Yuanjai Cafe</td>\n",
       "      <td>อาจณรงค์ กลมเกลียว</td>\n",
       "      <td>5.0</td>\n",
       "    </tr>\n",
       "    <tr>\n",
       "      <th>3349</th>\n",
       "      <td>Yuanjai Cafe</td>\n",
       "      <td>??</td>\n",
       "      <td>5.0</td>\n",
       "    </tr>\n",
       "    <tr>\n",
       "      <th>3350</th>\n",
       "      <td>Yuanjai Cafe</td>\n",
       "      <td>ประจงจิต จันทป</td>\n",
       "      <td>5.0</td>\n",
       "    </tr>\n",
       "    <tr>\n",
       "      <th>3351</th>\n",
       "      <td>Yuanjai Cafe</td>\n",
       "      <td>Chatthawat Warnjai</td>\n",
       "      <td>5.0</td>\n",
       "    </tr>\n",
       "    <tr>\n",
       "      <th>3352</th>\n",
       "      <td>Yuanjai Cafe</td>\n",
       "      <td>TAE.SIRIWAT</td>\n",
       "      <td>5.0</td>\n",
       "    </tr>\n",
       "  </tbody>\n",
       "</table>\n",
       "<p>3327 rows × 3 columns</p>\n",
       "</div>"
      ],
      "text/plain": [
       "                        Store                        User  Rating\n",
       "0     NAP's Coffee & Roasters                   Nuunet D.     5.0\n",
       "1     NAP's Coffee & Roasters                   vanai sun     3.0\n",
       "2     NAP's Coffee & Roasters              Phonanan Seeon     5.0\n",
       "3     NAP's Coffee & Roasters  Chavakorn Laophetsakunchai     5.0\n",
       "4     NAP's Coffee & Roasters               community man     5.0\n",
       "...                       ...                         ...     ...\n",
       "3348             Yuanjai Cafe          อาจณรงค์ กลมเกลียว     5.0\n",
       "3349             Yuanjai Cafe                          ??     5.0\n",
       "3350             Yuanjai Cafe              ประจงจิต จันทป     5.0\n",
       "3351             Yuanjai Cafe          Chatthawat Warnjai     5.0\n",
       "3352             Yuanjai Cafe                 TAE.SIRIWAT     5.0\n",
       "\n",
       "[3327 rows x 3 columns]"
      ]
     },
     "execution_count": 133,
     "metadata": {},
     "output_type": "execute_result"
    }
   ],
   "source": [
    "df = df.iloc[0:,0:3]\n",
    "df"
   ]
  },
  {
   "cell_type": "code",
   "execution_count": 71,
   "id": "e7ef087d",
   "metadata": {},
   "outputs": [],
   "source": [
    "av = df.groupby('Store')['Rating'].mean().reset_index(name=\"mean\") ## C"
   ]
  },
  {
   "cell_type": "code",
   "execution_count": 72,
   "id": "bac8521d",
   "metadata": {},
   "outputs": [],
   "source": [
    "C = df.groupby([\"Store\"])[\"User\"].count().reset_index(name=\"count\") ## quantile"
   ]
  },
  {
   "cell_type": "code",
   "execution_count": 73,
   "id": "9446de2c",
   "metadata": {},
   "outputs": [],
   "source": [
    "df2= C.merge(av,on='Store')"
   ]
  },
  {
   "cell_type": "code",
   "execution_count": 74,
   "id": "f5d39c66",
   "metadata": {},
   "outputs": [
    {
     "data": {
      "text/html": [
       "<div>\n",
       "<style scoped>\n",
       "    .dataframe tbody tr th:only-of-type {\n",
       "        vertical-align: middle;\n",
       "    }\n",
       "\n",
       "    .dataframe tbody tr th {\n",
       "        vertical-align: top;\n",
       "    }\n",
       "\n",
       "    .dataframe thead th {\n",
       "        text-align: right;\n",
       "    }\n",
       "</style>\n",
       "<table border=\"1\" class=\"dataframe\">\n",
       "  <thead>\n",
       "    <tr style=\"text-align: right;\">\n",
       "      <th></th>\n",
       "      <th>Store</th>\n",
       "      <th>count</th>\n",
       "      <th>mean</th>\n",
       "    </tr>\n",
       "  </thead>\n",
       "  <tbody>\n",
       "    <tr>\n",
       "      <th>0</th>\n",
       "      <td>11.11 Gallery and Coffee</td>\n",
       "      <td>26</td>\n",
       "      <td>4.653846</td>\n",
       "    </tr>\n",
       "    <tr>\n",
       "      <th>1</th>\n",
       "      <td>Abe Specialty Coffee</td>\n",
       "      <td>14</td>\n",
       "      <td>4.785714</td>\n",
       "    </tr>\n",
       "    <tr>\n",
       "      <th>2</th>\n",
       "      <td>Amarna</td>\n",
       "      <td>45</td>\n",
       "      <td>4.733333</td>\n",
       "    </tr>\n",
       "    <tr>\n",
       "      <th>3</th>\n",
       "      <td>Anna Roasters</td>\n",
       "      <td>233</td>\n",
       "      <td>4.592275</td>\n",
       "    </tr>\n",
       "    <tr>\n",
       "      <th>4</th>\n",
       "      <td>Attaroast</td>\n",
       "      <td>37</td>\n",
       "      <td>4.837838</td>\n",
       "    </tr>\n",
       "  </tbody>\n",
       "</table>\n",
       "</div>"
      ],
      "text/plain": [
       "                      Store  count      mean\n",
       "0  11.11 Gallery and Coffee     26  4.653846\n",
       "1      Abe Specialty Coffee     14  4.785714\n",
       "2                    Amarna     45  4.733333\n",
       "3             Anna Roasters    233  4.592275\n",
       "4                 Attaroast     37  4.837838"
      ]
     },
     "execution_count": 74,
     "metadata": {},
     "output_type": "execute_result"
    }
   ],
   "source": [
    "df2.head()"
   ]
  },
  {
   "cell_type": "code",
   "execution_count": 75,
   "id": "bfa7c759",
   "metadata": {},
   "outputs": [
    {
     "data": {
      "text/plain": [
       "4.560949853648421"
      ]
     },
     "execution_count": 75,
     "metadata": {},
     "output_type": "execute_result"
    }
   ],
   "source": [
    "C = df2['mean'].mean()\n",
    "C"
   ]
  },
  {
   "cell_type": "code",
   "execution_count": 103,
   "id": "d75dc56d",
   "metadata": {},
   "outputs": [
    {
     "data": {
      "text/plain": [
       "86.6"
      ]
     },
     "execution_count": 103,
     "metadata": {},
     "output_type": "execute_result"
    }
   ],
   "source": [
    "m = df2['count'].quantile(0.6)\n",
    "m"
   ]
  },
  {
   "cell_type": "code",
   "execution_count": 104,
   "id": "2f8ab3e4",
   "metadata": {},
   "outputs": [
    {
     "data": {
      "text/plain": [
       "(14, 3)"
      ]
     },
     "execution_count": 104,
     "metadata": {},
     "output_type": "execute_result"
    }
   ],
   "source": [
    "listA = df2.copy().loc[df2['count'] >= m]\n",
    "listA.shape"
   ]
  },
  {
   "cell_type": "markdown",
   "id": "59c58813",
   "metadata": {},
   "source": [
    "weighted rating (WR) = (v ÷ (v+m)) × R + (m ÷ (v+m)) × C"
   ]
  },
  {
   "cell_type": "code",
   "execution_count": 105,
   "id": "956c8226",
   "metadata": {},
   "outputs": [],
   "source": [
    "def weighted_rating(x, m=m, C=C):\n",
    "    v = x['count']\n",
    "    R = x['mean']\n",
    "    return (v/(v+m) * R) + (m/(m+v) * C)"
   ]
  },
  {
   "cell_type": "code",
   "execution_count": 106,
   "id": "023dc398",
   "metadata": {},
   "outputs": [],
   "source": [
    "listA['score'] = listA.apply(weighted_rating, axis=1)"
   ]
  },
  {
   "cell_type": "code",
   "execution_count": 110,
   "id": "24a5a3ed",
   "metadata": {},
   "outputs": [
    {
     "data": {
      "text/html": [
       "<div>\n",
       "<style scoped>\n",
       "    .dataframe tbody tr th:only-of-type {\n",
       "        vertical-align: middle;\n",
       "    }\n",
       "\n",
       "    .dataframe tbody tr th {\n",
       "        vertical-align: top;\n",
       "    }\n",
       "\n",
       "    .dataframe thead th {\n",
       "        text-align: right;\n",
       "    }\n",
       "</style>\n",
       "<table border=\"1\" class=\"dataframe\">\n",
       "  <thead>\n",
       "    <tr style=\"text-align: right;\">\n",
       "      <th></th>\n",
       "      <th>Store</th>\n",
       "      <th>count</th>\n",
       "      <th>mean</th>\n",
       "      <th>score</th>\n",
       "    </tr>\n",
       "  </thead>\n",
       "  <tbody>\n",
       "    <tr>\n",
       "      <th>11</th>\n",
       "      <td>GODFATHER COFFEE</td>\n",
       "      <td>132</td>\n",
       "      <td>4.704545</td>\n",
       "      <td>4.647659</td>\n",
       "    </tr>\n",
       "    <tr>\n",
       "      <th>27</th>\n",
       "      <td>Snoopcat Cafe</td>\n",
       "      <td>96</td>\n",
       "      <td>4.687500</td>\n",
       "      <td>4.627482</td>\n",
       "    </tr>\n",
       "    <tr>\n",
       "      <th>17</th>\n",
       "      <td>NAP's Coffee &amp; Roasters</td>\n",
       "      <td>178</td>\n",
       "      <td>4.646067</td>\n",
       "      <td>4.618210</td>\n",
       "    </tr>\n",
       "    <tr>\n",
       "      <th>25</th>\n",
       "      <td>Saereesook</td>\n",
       "      <td>100</td>\n",
       "      <td>4.630000</td>\n",
       "      <td>4.597954</td>\n",
       "    </tr>\n",
       "    <tr>\n",
       "      <th>3</th>\n",
       "      <td>Anna Roasters</td>\n",
       "      <td>233</td>\n",
       "      <td>4.592275</td>\n",
       "      <td>4.583787</td>\n",
       "    </tr>\n",
       "    <tr>\n",
       "      <th>14</th>\n",
       "      <td>LIFE Roasters</td>\n",
       "      <td>255</td>\n",
       "      <td>4.556863</td>\n",
       "      <td>4.557899</td>\n",
       "    </tr>\n",
       "    <tr>\n",
       "      <th>6</th>\n",
       "      <td>BalconyKiss Coffee</td>\n",
       "      <td>133</td>\n",
       "      <td>4.518797</td>\n",
       "      <td>4.535420</td>\n",
       "    </tr>\n",
       "    <tr>\n",
       "      <th>18</th>\n",
       "      <td>Nap x Warin</td>\n",
       "      <td>87</td>\n",
       "      <td>4.505747</td>\n",
       "      <td>4.533285</td>\n",
       "    </tr>\n",
       "    <tr>\n",
       "      <th>22</th>\n",
       "      <td>ROOF COFFEE</td>\n",
       "      <td>135</td>\n",
       "      <td>4.451852</td>\n",
       "      <td>4.494487</td>\n",
       "    </tr>\n",
       "    <tr>\n",
       "      <th>16</th>\n",
       "      <td>My Papilio</td>\n",
       "      <td>264</td>\n",
       "      <td>4.382576</td>\n",
       "      <td>4.426635</td>\n",
       "    </tr>\n",
       "    <tr>\n",
       "      <th>9</th>\n",
       "      <td>Bossa cafe</td>\n",
       "      <td>132</td>\n",
       "      <td>4.310606</td>\n",
       "      <td>4.409782</td>\n",
       "    </tr>\n",
       "    <tr>\n",
       "      <th>8</th>\n",
       "      <td>Blues Coffee</td>\n",
       "      <td>113</td>\n",
       "      <td>4.238938</td>\n",
       "      <td>4.378649</td>\n",
       "    </tr>\n",
       "    <tr>\n",
       "      <th>20</th>\n",
       "      <td>Phantae Coffee</td>\n",
       "      <td>205</td>\n",
       "      <td>4.248780</td>\n",
       "      <td>4.341489</td>\n",
       "    </tr>\n",
       "    <tr>\n",
       "      <th>30</th>\n",
       "      <td>Tree Cafe Rim Moon</td>\n",
       "      <td>402</td>\n",
       "      <td>4.238806</td>\n",
       "      <td>4.295903</td>\n",
       "    </tr>\n",
       "  </tbody>\n",
       "</table>\n",
       "</div>"
      ],
      "text/plain": [
       "                      Store  count      mean     score\n",
       "11         GODFATHER COFFEE    132  4.704545  4.647659\n",
       "27            Snoopcat Cafe     96  4.687500  4.627482\n",
       "17  NAP's Coffee & Roasters    178  4.646067  4.618210\n",
       "25               Saereesook    100  4.630000  4.597954\n",
       "3             Anna Roasters    233  4.592275  4.583787\n",
       "14            LIFE Roasters    255  4.556863  4.557899\n",
       "6        BalconyKiss Coffee    133  4.518797  4.535420\n",
       "18              Nap x Warin     87  4.505747  4.533285\n",
       "22              ROOF COFFEE    135  4.451852  4.494487\n",
       "16               My Papilio    264  4.382576  4.426635\n",
       "9                Bossa cafe    132  4.310606  4.409782\n",
       "8              Blues Coffee    113  4.238938  4.378649\n",
       "20           Phantae Coffee    205  4.248780  4.341489\n",
       "30       Tree Cafe Rim Moon    402  4.238806  4.295903"
      ]
     },
     "execution_count": 110,
     "metadata": {},
     "output_type": "execute_result"
    }
   ],
   "source": [
    "listA = listA.sort_values('score', ascending=False)\n",
    "\n",
    "#Print the top 15 movies\n",
    "listA[['Store', 'count', 'mean', 'score']].head(20)"
   ]
  },
  {
   "cell_type": "code",
   "execution_count": 143,
   "id": "8d68966c",
   "metadata": {},
   "outputs": [
    {
     "data": {
      "text/html": [
       "<div>\n",
       "<style scoped>\n",
       "    .dataframe tbody tr th:only-of-type {\n",
       "        vertical-align: middle;\n",
       "    }\n",
       "\n",
       "    .dataframe tbody tr th {\n",
       "        vertical-align: top;\n",
       "    }\n",
       "\n",
       "    .dataframe thead th {\n",
       "        text-align: right;\n",
       "    }\n",
       "</style>\n",
       "<table border=\"1\" class=\"dataframe\">\n",
       "  <thead>\n",
       "    <tr style=\"text-align: right;\">\n",
       "      <th></th>\n",
       "      <th>Store</th>\n",
       "      <th>User</th>\n",
       "      <th>Rating</th>\n",
       "    </tr>\n",
       "  </thead>\n",
       "  <tbody>\n",
       "    <tr>\n",
       "      <th>0</th>\n",
       "      <td>NAP's Coffee &amp; Roasters</td>\n",
       "      <td>Nuunet D.</td>\n",
       "      <td>5.0</td>\n",
       "    </tr>\n",
       "    <tr>\n",
       "      <th>1</th>\n",
       "      <td>NAP's Coffee &amp; Roasters</td>\n",
       "      <td>vanai sun</td>\n",
       "      <td>3.0</td>\n",
       "    </tr>\n",
       "    <tr>\n",
       "      <th>2</th>\n",
       "      <td>NAP's Coffee &amp; Roasters</td>\n",
       "      <td>Phonanan Seeon</td>\n",
       "      <td>5.0</td>\n",
       "    </tr>\n",
       "    <tr>\n",
       "      <th>3</th>\n",
       "      <td>NAP's Coffee &amp; Roasters</td>\n",
       "      <td>Chavakorn Laophetsakunchai</td>\n",
       "      <td>5.0</td>\n",
       "    </tr>\n",
       "    <tr>\n",
       "      <th>4</th>\n",
       "      <td>NAP's Coffee &amp; Roasters</td>\n",
       "      <td>community man</td>\n",
       "      <td>5.0</td>\n",
       "    </tr>\n",
       "    <tr>\n",
       "      <th>...</th>\n",
       "      <td>...</td>\n",
       "      <td>...</td>\n",
       "      <td>...</td>\n",
       "    </tr>\n",
       "    <tr>\n",
       "      <th>3348</th>\n",
       "      <td>Yuanjai Cafe</td>\n",
       "      <td>อาจณรงค์ กลมเกลียว</td>\n",
       "      <td>5.0</td>\n",
       "    </tr>\n",
       "    <tr>\n",
       "      <th>3349</th>\n",
       "      <td>Yuanjai Cafe</td>\n",
       "      <td>??</td>\n",
       "      <td>5.0</td>\n",
       "    </tr>\n",
       "    <tr>\n",
       "      <th>3350</th>\n",
       "      <td>Yuanjai Cafe</td>\n",
       "      <td>ประจงจิต จันทป</td>\n",
       "      <td>5.0</td>\n",
       "    </tr>\n",
       "    <tr>\n",
       "      <th>3351</th>\n",
       "      <td>Yuanjai Cafe</td>\n",
       "      <td>Chatthawat Warnjai</td>\n",
       "      <td>5.0</td>\n",
       "    </tr>\n",
       "    <tr>\n",
       "      <th>3352</th>\n",
       "      <td>Yuanjai Cafe</td>\n",
       "      <td>TAE.SIRIWAT</td>\n",
       "      <td>5.0</td>\n",
       "    </tr>\n",
       "  </tbody>\n",
       "</table>\n",
       "<p>3327 rows × 3 columns</p>\n",
       "</div>"
      ],
      "text/plain": [
       "                        Store                        User  Rating\n",
       "0     NAP's Coffee & Roasters                   Nuunet D.     5.0\n",
       "1     NAP's Coffee & Roasters                   vanai sun     3.0\n",
       "2     NAP's Coffee & Roasters              Phonanan Seeon     5.0\n",
       "3     NAP's Coffee & Roasters  Chavakorn Laophetsakunchai     5.0\n",
       "4     NAP's Coffee & Roasters               community man     5.0\n",
       "...                       ...                         ...     ...\n",
       "3348             Yuanjai Cafe          อาจณรงค์ กลมเกลียว     5.0\n",
       "3349             Yuanjai Cafe                          ??     5.0\n",
       "3350             Yuanjai Cafe              ประจงจิต จันทป     5.0\n",
       "3351             Yuanjai Cafe          Chatthawat Warnjai     5.0\n",
       "3352             Yuanjai Cafe                 TAE.SIRIWAT     5.0\n",
       "\n",
       "[3327 rows x 3 columns]"
      ]
     },
     "execution_count": 143,
     "metadata": {},
     "output_type": "execute_result"
    }
   ],
   "source": [
    "df"
   ]
  },
  {
   "cell_type": "code",
   "execution_count": 159,
   "id": "9ade4235",
   "metadata": {},
   "outputs": [
    {
     "data": {
      "text/html": [
       "<div>\n",
       "<style scoped>\n",
       "    .dataframe tbody tr th:only-of-type {\n",
       "        vertical-align: middle;\n",
       "    }\n",
       "\n",
       "    .dataframe tbody tr th {\n",
       "        vertical-align: top;\n",
       "    }\n",
       "\n",
       "    .dataframe thead th {\n",
       "        text-align: right;\n",
       "    }\n",
       "</style>\n",
       "<table border=\"1\" class=\"dataframe\">\n",
       "  <thead>\n",
       "    <tr style=\"text-align: right;\">\n",
       "      <th></th>\n",
       "      <th>Store</th>\n",
       "      <th>Rating</th>\n",
       "      <th>count</th>\n",
       "    </tr>\n",
       "  </thead>\n",
       "  <tbody>\n",
       "    <tr>\n",
       "      <th>0</th>\n",
       "      <td>11.11 Gallery and Coffee</td>\n",
       "      <td>3.0</td>\n",
       "      <td>1</td>\n",
       "    </tr>\n",
       "    <tr>\n",
       "      <th>1</th>\n",
       "      <td>11.11 Gallery and Coffee</td>\n",
       "      <td>4.0</td>\n",
       "      <td>7</td>\n",
       "    </tr>\n",
       "    <tr>\n",
       "      <th>2</th>\n",
       "      <td>11.11 Gallery and Coffee</td>\n",
       "      <td>5.0</td>\n",
       "      <td>18</td>\n",
       "    </tr>\n",
       "    <tr>\n",
       "      <th>3</th>\n",
       "      <td>Abe Specialty Coffee</td>\n",
       "      <td>4.0</td>\n",
       "      <td>3</td>\n",
       "    </tr>\n",
       "    <tr>\n",
       "      <th>4</th>\n",
       "      <td>Abe Specialty Coffee</td>\n",
       "      <td>5.0</td>\n",
       "      <td>11</td>\n",
       "    </tr>\n",
       "    <tr>\n",
       "      <th>...</th>\n",
       "      <td>...</td>\n",
       "      <td>...</td>\n",
       "      <td>...</td>\n",
       "    </tr>\n",
       "    <tr>\n",
       "      <th>122</th>\n",
       "      <td>r o u n d</td>\n",
       "      <td>4.0</td>\n",
       "      <td>3</td>\n",
       "    </tr>\n",
       "    <tr>\n",
       "      <th>123</th>\n",
       "      <td>r o u n d</td>\n",
       "      <td>5.0</td>\n",
       "      <td>6</td>\n",
       "    </tr>\n",
       "    <tr>\n",
       "      <th>124</th>\n",
       "      <td>sangob</td>\n",
       "      <td>3.0</td>\n",
       "      <td>3</td>\n",
       "    </tr>\n",
       "    <tr>\n",
       "      <th>125</th>\n",
       "      <td>sangob</td>\n",
       "      <td>4.0</td>\n",
       "      <td>13</td>\n",
       "    </tr>\n",
       "    <tr>\n",
       "      <th>126</th>\n",
       "      <td>sangob</td>\n",
       "      <td>5.0</td>\n",
       "      <td>41</td>\n",
       "    </tr>\n",
       "  </tbody>\n",
       "</table>\n",
       "<p>127 rows × 3 columns</p>\n",
       "</div>"
      ],
      "text/plain": [
       "                        Store  Rating  count\n",
       "0    11.11 Gallery and Coffee     3.0      1\n",
       "1    11.11 Gallery and Coffee     4.0      7\n",
       "2    11.11 Gallery and Coffee     5.0     18\n",
       "3        Abe Specialty Coffee     4.0      3\n",
       "4        Abe Specialty Coffee     5.0     11\n",
       "..                        ...     ...    ...\n",
       "122                 r o u n d     4.0      3\n",
       "123                 r o u n d     5.0      6\n",
       "124                    sangob     3.0      3\n",
       "125                    sangob     4.0     13\n",
       "126                    sangob     5.0     41\n",
       "\n",
       "[127 rows x 3 columns]"
      ]
     },
     "execution_count": 159,
     "metadata": {},
     "output_type": "execute_result"
    }
   ],
   "source": [
    "df.groupby(['Store','Rating']).Rating.count().to_frame('count').reset_index()"
   ]
  },
  {
   "cell_type": "markdown",
   "id": "b4cbf559",
   "metadata": {},
   "source": [
    "https://stackoverflow.com/questions/1411199/what-is-a-better-way-to-sort-by-a-5-star-rating"
   ]
  },
  {
   "cell_type": "code",
   "execution_count": null,
   "id": "c9dc1b8d",
   "metadata": {},
   "outputs": [],
   "source": []
  },
  {
   "cell_type": "code",
   "execution_count": 160,
   "id": "c9e05c3b",
   "metadata": {},
   "outputs": [],
   "source": [
    "def starsort(ns):\n",
    "    \"\"\"\n",
    "    http://www.evanmiller.org/ranking-items-with-star-ratings.html\n",
    "    \"\"\"\n",
    "    N = sum(ns)\n",
    "    K = len(ns)\n",
    "    s = list(range(K,0,-1))\n",
    "    print(s)\n",
    "    s2 = [sk**2 for sk in s]\n",
    "    z = 1.65\n",
    "    def f(s, ns):\n",
    "        N = sum(ns)\n",
    "        K = len(ns)\n",
    "        return sum(sk*(nk+1) for sk, nk in zip(s,ns)) / (N+K)\n",
    "    fsns = f(s, ns)\n",
    "    return fsns - z*math.sqrt((f(s2, ns)- fsns**2)/(N+K+1))"
   ]
  },
  {
   "cell_type": "code",
   "execution_count": 161,
   "id": "c2b175da",
   "metadata": {},
   "outputs": [
    {
     "name": "stdout",
     "output_type": "stream",
     "text": [
      "[5, 4, 3, 2, 1]\n"
     ]
    },
    {
     "data": {
      "text/plain": [
       "4.1032604607846155"
      ]
     },
     "execution_count": 161,
     "metadata": {},
     "output_type": "execute_result"
    }
   ],
   "source": [
    "x = (18, 7, 1, 0, 0)\n",
    "starsort(x)"
   ]
  },
  {
   "cell_type": "code",
   "execution_count": 162,
   "id": "f34160bf",
   "metadata": {},
   "outputs": [
    {
     "data": {
      "text/plain": [
       "0       1\n",
       "1       7\n",
       "2      18\n",
       "3       3\n",
       "4      11\n",
       "       ..\n",
       "122     3\n",
       "123     6\n",
       "124     3\n",
       "125    13\n",
       "126    41\n",
       "Name: count, Length: 127, dtype: int64"
      ]
     },
     "execution_count": 162,
     "metadata": {},
     "output_type": "execute_result"
    }
   ],
   "source": [
    "count"
   ]
  },
  {
   "cell_type": "code",
   "execution_count": null,
   "id": "a5c17dfe",
   "metadata": {},
   "outputs": [],
   "source": []
  }
 ],
 "metadata": {
  "kernelspec": {
   "display_name": "Python 3 (ipykernel)",
   "language": "python",
   "name": "python3"
  },
  "language_info": {
   "codemirror_mode": {
    "name": "ipython",
    "version": 3
   },
   "file_extension": ".py",
   "mimetype": "text/x-python",
   "name": "python",
   "nbconvert_exporter": "python",
   "pygments_lexer": "ipython3",
   "version": "3.9.13"
  }
 },
 "nbformat": 4,
 "nbformat_minor": 5
}
